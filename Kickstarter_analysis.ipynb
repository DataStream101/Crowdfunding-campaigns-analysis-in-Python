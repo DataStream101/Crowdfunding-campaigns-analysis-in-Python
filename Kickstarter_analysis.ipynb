{
 "cells": [
  {
   "cell_type": "markdown",
   "metadata": {},
   "source": [
    "### Loading Libraries"
   ]
  },
  {
   "cell_type": "code",
   "execution_count": 1,
   "metadata": {},
   "outputs": [],
   "source": [
    "# Data manipulation\n",
    "import pandas as pd \n",
    "import numpy as np\n",
    "# Data visualization\n",
    "import matplotlib\n",
    "import matplotlib.pyplot as plt\n",
    "from matplotlib.ticker import StrMethodFormatter\n",
    "%matplotlib inline\n",
    "import seaborn as sns"
   ]
  },
  {
   "cell_type": "markdown",
   "metadata": {},
   "source": [
    "### Data Source"
   ]
  },
  {
   "cell_type": "markdown",
   "metadata": {},
   "source": [
    "https://www.kaggle.com/tayoaki/kickstarter-dataset"
   ]
  },
  {
   "cell_type": "markdown",
   "metadata": {},
   "source": [
    "### 1. Loading the DataSet"
   ]
  },
  {
   "cell_type": "code",
   "execution_count": 2,
   "metadata": {},
   "outputs": [],
   "source": [
    "df = pd.read_csv('18k_Projects.csv', low_memory=False)"
   ]
  },
  {
   "cell_type": "code",
   "execution_count": 3,
   "metadata": {},
   "outputs": [],
   "source": [
    "df = df.drop(columns =['Id','Name','Url','Creator','Latitude','Longitude','Location',\\\n",
    "            'Start Timestamp (UTC)','End Timestamp (UTC)','Creator - # Projects Created',\\\n",
    "            'Creator - # Projects Backed','Creator Bio','Creator Website'])"
   ]
  },
  {
   "cell_type": "code",
   "execution_count": 4,
   "metadata": {},
   "outputs": [
    {
     "data": {
      "text/html": [
       "<div>\n",
       "<style scoped>\n",
       "    .dataframe tbody tr th:only-of-type {\n",
       "        vertical-align: middle;\n",
       "    }\n",
       "\n",
       "    .dataframe tbody tr th {\n",
       "        vertical-align: top;\n",
       "    }\n",
       "\n",
       "    .dataframe thead th {\n",
       "        text-align: right;\n",
       "    }\n",
       "</style>\n",
       "<table border=\"1\" class=\"dataframe\">\n",
       "  <thead>\n",
       "    <tr style=\"text-align: right;\">\n",
       "      <th></th>\n",
       "      <th>State</th>\n",
       "      <th>Currency</th>\n",
       "      <th>Top Category</th>\n",
       "      <th>Category</th>\n",
       "      <th>Updates</th>\n",
       "      <th>Comments</th>\n",
       "      <th>Rewards</th>\n",
       "      <th>Goal</th>\n",
       "      <th>Pledged</th>\n",
       "      <th>Backers</th>\n",
       "      <th>...</th>\n",
       "      <th>Duration in Days</th>\n",
       "      <th>Facebook Connected</th>\n",
       "      <th>Facebook Friends</th>\n",
       "      <th>Facebook Shares</th>\n",
       "      <th>Has Video</th>\n",
       "      <th># Videos</th>\n",
       "      <th># Images</th>\n",
       "      <th># Words (Description)</th>\n",
       "      <th># Words (Risks and Challenges)</th>\n",
       "      <th># FAQs</th>\n",
       "    </tr>\n",
       "  </thead>\n",
       "  <tbody>\n",
       "    <tr>\n",
       "      <th>0</th>\n",
       "      <td>failed</td>\n",
       "      <td>USD</td>\n",
       "      <td>Art</td>\n",
       "      <td>Art</td>\n",
       "      <td>0</td>\n",
       "      <td>0</td>\n",
       "      <td>9</td>\n",
       "      <td>20000</td>\n",
       "      <td>6</td>\n",
       "      <td>2</td>\n",
       "      <td>...</td>\n",
       "      <td>30</td>\n",
       "      <td>Yes</td>\n",
       "      <td>272.0</td>\n",
       "      <td>70</td>\n",
       "      <td>Yes</td>\n",
       "      <td>0.0</td>\n",
       "      <td>2</td>\n",
       "      <td>297</td>\n",
       "      <td>153.0</td>\n",
       "      <td>0</td>\n",
       "    </tr>\n",
       "    <tr>\n",
       "      <th>1</th>\n",
       "      <td>failed</td>\n",
       "      <td>USD</td>\n",
       "      <td>Film &amp; Video</td>\n",
       "      <td>Short Film</td>\n",
       "      <td>0</td>\n",
       "      <td>0</td>\n",
       "      <td>8</td>\n",
       "      <td>3000</td>\n",
       "      <td>180</td>\n",
       "      <td>5</td>\n",
       "      <td>...</td>\n",
       "      <td>33</td>\n",
       "      <td>Yes</td>\n",
       "      <td>573.0</td>\n",
       "      <td>57</td>\n",
       "      <td>Yes</td>\n",
       "      <td>0.0</td>\n",
       "      <td>0</td>\n",
       "      <td>276</td>\n",
       "      <td>98.0</td>\n",
       "      <td>0</td>\n",
       "    </tr>\n",
       "    <tr>\n",
       "      <th>2</th>\n",
       "      <td>failed</td>\n",
       "      <td>USD</td>\n",
       "      <td>Fashion</td>\n",
       "      <td>Fashion</td>\n",
       "      <td>1</td>\n",
       "      <td>2</td>\n",
       "      <td>17</td>\n",
       "      <td>5000</td>\n",
       "      <td>1941</td>\n",
       "      <td>62</td>\n",
       "      <td>...</td>\n",
       "      <td>30</td>\n",
       "      <td>No</td>\n",
       "      <td>NaN</td>\n",
       "      <td>158</td>\n",
       "      <td>No</td>\n",
       "      <td>0.0</td>\n",
       "      <td>12</td>\n",
       "      <td>1049</td>\n",
       "      <td>66.0</td>\n",
       "      <td>2</td>\n",
       "    </tr>\n",
       "    <tr>\n",
       "      <th>3</th>\n",
       "      <td>failed</td>\n",
       "      <td>USD</td>\n",
       "      <td>Publishing</td>\n",
       "      <td>Poetry</td>\n",
       "      <td>0</td>\n",
       "      <td>0</td>\n",
       "      <td>4</td>\n",
       "      <td>5000</td>\n",
       "      <td>130</td>\n",
       "      <td>5</td>\n",
       "      <td>...</td>\n",
       "      <td>60</td>\n",
       "      <td>Yes</td>\n",
       "      <td>1285.0</td>\n",
       "      <td>2</td>\n",
       "      <td>Yes</td>\n",
       "      <td>0.0</td>\n",
       "      <td>0</td>\n",
       "      <td>309</td>\n",
       "      <td>169.0</td>\n",
       "      <td>0</td>\n",
       "    </tr>\n",
       "    <tr>\n",
       "      <th>4</th>\n",
       "      <td>failed</td>\n",
       "      <td>USD</td>\n",
       "      <td>Publishing</td>\n",
       "      <td>Nonfiction</td>\n",
       "      <td>0</td>\n",
       "      <td>0</td>\n",
       "      <td>12</td>\n",
       "      <td>12000</td>\n",
       "      <td>1015</td>\n",
       "      <td>16</td>\n",
       "      <td>...</td>\n",
       "      <td>30</td>\n",
       "      <td>Yes</td>\n",
       "      <td>969.0</td>\n",
       "      <td>411</td>\n",
       "      <td>Yes</td>\n",
       "      <td>0.0</td>\n",
       "      <td>6</td>\n",
       "      <td>1636</td>\n",
       "      <td>216.0</td>\n",
       "      <td>0</td>\n",
       "    </tr>\n",
       "  </tbody>\n",
       "</table>\n",
       "<p>5 rows × 22 columns</p>\n",
       "</div>"
      ],
      "text/plain": [
       "    State Currency  Top Category    Category  Updates  Comments  Rewards  \\\n",
       "0  failed      USD           Art         Art        0         0        9   \n",
       "1  failed      USD  Film & Video  Short Film        0         0        8   \n",
       "2  failed      USD       Fashion     Fashion        1         2       17   \n",
       "3  failed      USD    Publishing      Poetry        0         0        4   \n",
       "4  failed      USD    Publishing  Nonfiction        0         0       12   \n",
       "\n",
       "    Goal  Pledged  Backers  ... Duration in Days Facebook Connected  \\\n",
       "0  20000        6        2  ...               30                Yes   \n",
       "1   3000      180        5  ...               33                Yes   \n",
       "2   5000     1941       62  ...               30                 No   \n",
       "3   5000      130        5  ...               60                Yes   \n",
       "4  12000     1015       16  ...               30                Yes   \n",
       "\n",
       "   Facebook Friends Facebook Shares  Has Video  # Videos # Images  \\\n",
       "0             272.0              70        Yes       0.0        2   \n",
       "1             573.0              57        Yes       0.0        0   \n",
       "2               NaN             158         No       0.0       12   \n",
       "3            1285.0               2        Yes       0.0        0   \n",
       "4             969.0             411        Yes       0.0        6   \n",
       "\n",
       "   # Words (Description)  # Words (Risks and Challenges)  # FAQs  \n",
       "0                    297                           153.0       0  \n",
       "1                    276                            98.0       0  \n",
       "2                   1049                            66.0       2  \n",
       "3                    309                           169.0       0  \n",
       "4                   1636                           216.0       0  \n",
       "\n",
       "[5 rows x 22 columns]"
      ]
     },
     "execution_count": 4,
     "metadata": {},
     "output_type": "execute_result"
    }
   ],
   "source": [
    "df.head()"
   ]
  },
  {
   "cell_type": "code",
   "execution_count": 5,
   "metadata": {},
   "outputs": [
    {
     "name": "stdout",
     "output_type": "stream",
     "text": [
      "<class 'pandas.core.frame.DataFrame'>\n",
      "RangeIndex: 18142 entries, 0 to 18141\n",
      "Data columns (total 22 columns):\n",
      "State                             18142 non-null object\n",
      "Currency                          18142 non-null object\n",
      "Top Category                      18142 non-null object\n",
      "Category                          18142 non-null object\n",
      "Updates                           18142 non-null int64\n",
      "Comments                          18142 non-null int64\n",
      "Rewards                           18142 non-null int64\n",
      "Goal                              18142 non-null int64\n",
      "Pledged                           18142 non-null int64\n",
      "Backers                           18142 non-null int64\n",
      "Start                             18142 non-null object\n",
      "End                               18142 non-null object\n",
      "Duration in Days                  18142 non-null int64\n",
      "Facebook Connected                18142 non-null object\n",
      "Facebook Friends                  12290 non-null float64\n",
      "Facebook Shares                   18142 non-null int64\n",
      "Has Video                         18142 non-null object\n",
      "# Videos                          18041 non-null float64\n",
      "# Images                          18142 non-null int64\n",
      "# Words (Description)             18142 non-null int64\n",
      "# Words (Risks and Challenges)    18041 non-null float64\n",
      "# FAQs                            18142 non-null int64\n",
      "dtypes: float64(3), int64(11), object(8)\n",
      "memory usage: 3.0+ MB\n"
     ]
    }
   ],
   "source": [
    "df.info()"
   ]
  },
  {
   "cell_type": "code",
   "execution_count": 6,
   "metadata": {
    "scrolled": false
   },
   "outputs": [
    {
     "data": {
      "text/plain": [
       "State                                0\n",
       "Currency                             0\n",
       "Top Category                         0\n",
       "Category                             0\n",
       "Updates                              0\n",
       "Comments                             0\n",
       "Rewards                              0\n",
       "Goal                                 0\n",
       "Pledged                              0\n",
       "Backers                              0\n",
       "Start                                0\n",
       "End                                  0\n",
       "Duration in Days                     0\n",
       "Facebook Connected                   0\n",
       "Facebook Friends                  5852\n",
       "Facebook Shares                      0\n",
       "Has Video                            0\n",
       "# Videos                           101\n",
       "# Images                             0\n",
       "# Words (Description)                0\n",
       "# Words (Risks and Challenges)     101\n",
       "# FAQs                               0\n",
       "dtype: int64"
      ]
     },
     "execution_count": 6,
     "metadata": {},
     "output_type": "execute_result"
    }
   ],
   "source": [
    "df.isna().sum()"
   ]
  },
  {
   "cell_type": "markdown",
   "metadata": {},
   "source": [
    "### 2. Data Wrangling"
   ]
  },
  {
   "cell_type": "code",
   "execution_count": 7,
   "metadata": {},
   "outputs": [],
   "source": [
    "# Parsing Dates(years 2013 - 2014)\n",
    "df['Start'] = pd.to_datetime(df['Start'])\n",
    "df['End'] = pd.to_datetime(df['End'])"
   ]
  },
  {
   "cell_type": "code",
   "execution_count": 8,
   "metadata": {},
   "outputs": [],
   "source": [
    "# Deleting currencies other than $\n",
    "len(df[df['Currency'] != 'USD'])\n",
    "len(df[df['Currency'] == 'USD'])\n",
    "\n",
    "df = df[df['Currency'] == 'USD']"
   ]
  },
  {
   "cell_type": "code",
   "execution_count": 9,
   "metadata": {},
   "outputs": [],
   "source": [
    "# Deleting outliers for Goal variable\n",
    "df = df[df['Goal'] <= 30000]"
   ]
  },
  {
   "cell_type": "code",
   "execution_count": 10,
   "metadata": {},
   "outputs": [
    {
     "data": {
      "text/plain": [
       "12681"
      ]
     },
     "execution_count": 10,
     "metadata": {},
     "output_type": "execute_result"
    }
   ],
   "source": [
    "len(df)"
   ]
  },
  {
   "cell_type": "markdown",
   "metadata": {},
   "source": [
    "### 3. Visualizing Breakdown of the results"
   ]
  },
  {
   "cell_type": "code",
   "execution_count": 11,
   "metadata": {},
   "outputs": [
    {
     "data": {
      "text/html": [
       "<div>\n",
       "<style scoped>\n",
       "    .dataframe tbody tr th:only-of-type {\n",
       "        vertical-align: middle;\n",
       "    }\n",
       "\n",
       "    .dataframe tbody tr th {\n",
       "        vertical-align: top;\n",
       "    }\n",
       "\n",
       "    .dataframe thead th {\n",
       "        text-align: right;\n",
       "    }\n",
       "</style>\n",
       "<table border=\"1\" class=\"dataframe\">\n",
       "  <thead>\n",
       "    <tr style=\"text-align: right;\">\n",
       "      <th></th>\n",
       "      <th>index</th>\n",
       "      <th>State</th>\n",
       "    </tr>\n",
       "  </thead>\n",
       "  <tbody>\n",
       "    <tr>\n",
       "      <th>0</th>\n",
       "      <td>successful</td>\n",
       "      <td>54.0</td>\n",
       "    </tr>\n",
       "    <tr>\n",
       "      <th>1</th>\n",
       "      <td>failed</td>\n",
       "      <td>46.0</td>\n",
       "    </tr>\n",
       "  </tbody>\n",
       "</table>\n",
       "</div>"
      ],
      "text/plain": [
       "        index  State\n",
       "0  successful   54.0\n",
       "1      failed   46.0"
      ]
     },
     "execution_count": 11,
     "metadata": {},
     "output_type": "execute_result"
    }
   ],
   "source": [
    "fail_succ = round(df['State'].value_counts(normalize=True)*100,0).to_frame().reset_index()\n",
    "\n",
    "fail_succ "
   ]
  },
  {
   "cell_type": "code",
   "execution_count": 12,
   "metadata": {},
   "outputs": [
    {
     "data": {
      "image/png": "[encoded data removed]",
      "text/plain": [
       "<Figure size 648x504 with 1 Axes>"
      ]
     },
     "metadata": {},
     "output_type": "display_data"
    }
   ],
   "source": [
    "fig, ax = plt.subplots(figsize = (9,7))\n",
    "plt.pie(fail_succ['State'],autopct ='%.f%%',textprops = {'fontsize': 15, 'color':'white','fontweight':'bold' },\\\n",
    "        shadow = True, startangle=45,\\\n",
    "        wedgeprops = { 'linewidth' : 1,'edgecolor' : \"white\" }, colors =['#2ED623','#FFA500'])\n",
    "plt.gca().legend(['Successful','Failed'], loc = 1,prop = {'size': 12});\n",
    "\n",
    "plt.title(\"Ratio successful/failed\", fontsize = 16,fontweight = 'bold',pad = 35,\\\n",
    "        loc = 'center', horizontalalignment = 'center', verticalalignment ='center');\n"
   ]
  },
  {
   "cell_type": "markdown",
   "metadata": {},
   "source": [
    "### Campaign results analysis : % of goal funded"
   ]
  },
  {
   "cell_type": "code",
   "execution_count": 13,
   "metadata": {},
   "outputs": [],
   "source": [
    "df['% of goal funded'] = df['Pledged']/df['Goal']*100"
   ]
  },
  {
   "cell_type": "code",
   "execution_count": 14,
   "metadata": {},
   "outputs": [
    {
     "data": {
      "text/plain": [
       "count    12681.000000\n",
       "mean       111.565389\n",
       "std        290.506273\n",
       "min          0.003333\n",
       "25%          8.000000\n",
       "50%        100.666667\n",
       "75%        118.440000\n",
       "max      13263.700000\n",
       "Name: % of goal funded, dtype: float64"
      ]
     },
     "execution_count": 14,
     "metadata": {},
     "output_type": "execute_result"
    }
   ],
   "source": [
    "df['% of goal funded'].describe()"
   ]
  },
  {
   "cell_type": "markdown",
   "metadata": {},
   "source": [
    "### Average % of goal funded according to the final state of the campaign"
   ]
  },
  {
   "cell_type": "code",
   "execution_count": 15,
   "metadata": {},
   "outputs": [
    {
     "data": {
      "text/html": [
       "<div>\n",
       "<style scoped>\n",
       "    .dataframe tbody tr th:only-of-type {\n",
       "        vertical-align: middle;\n",
       "    }\n",
       "\n",
       "    .dataframe tbody tr th {\n",
       "        vertical-align: top;\n",
       "    }\n",
       "\n",
       "    .dataframe thead th {\n",
       "        text-align: right;\n",
       "    }\n",
       "</style>\n",
       "<table border=\"1\" class=\"dataframe\">\n",
       "  <thead>\n",
       "    <tr style=\"text-align: right;\">\n",
       "      <th></th>\n",
       "      <th>State</th>\n",
       "      <th>% of goal funded</th>\n",
       "      <th>%</th>\n",
       "    </tr>\n",
       "  </thead>\n",
       "  <tbody>\n",
       "    <tr>\n",
       "      <th>0</th>\n",
       "      <td>failed</td>\n",
       "      <td>13.682620</td>\n",
       "      <td>0.14</td>\n",
       "    </tr>\n",
       "    <tr>\n",
       "      <th>1</th>\n",
       "      <td>successful</td>\n",
       "      <td>195.205199</td>\n",
       "      <td>1.95</td>\n",
       "    </tr>\n",
       "  </tbody>\n",
       "</table>\n",
       "</div>"
      ],
      "text/plain": [
       "        State  % of goal funded     %\n",
       "0      failed         13.682620  0.14\n",
       "1  successful        195.205199  1.95"
      ]
     },
     "execution_count": 15,
     "metadata": {},
     "output_type": "execute_result"
    }
   ],
   "source": [
    "perc_obj = df.groupby('State')['% of goal funded'].mean().to_frame().reset_index()\n",
    "\n",
    "perc_obj['%'] = round(perc_obj['% of goal funded']/100, 2)\n",
    "perc_obj"
   ]
  },
  {
   "cell_type": "code",
   "execution_count": 16,
   "metadata": {},
   "outputs": [
    {
     "data": {
      "image/png": "[encoded data removed]",
      "text/plain": [
       "<Figure size 576x288 with 1 Axes>"
      ]
     },
     "metadata": {
      "needs_background": "light"
     },
     "output_type": "display_data"
    }
   ],
   "source": [
    "fig, ax = plt.subplots(figsize=(8,4))\n",
    "sns.set(style='white')\n",
    "sns.set_context(\"notebook\")\n",
    "sns.set(rc={'axes.facecolor':'white', 'figure.facecolor':'white'})\n",
    "\n",
    "col = ['#FF9800','#00FF00']\n",
    "g = sns.barplot(x ='State', y = '%', data=perc_obj, palette=col)\n",
    "sns.despine()\n",
    "pos = [0,1]\n",
    "labels=['Failed','Successful']\n",
    "plt.xticks(pos,labels)\n",
    "g.xaxis.set_label_text(\"\")\n",
    "g.yaxis.set_label_text(\"\")\n",
    "\n",
    "g.spines['bottom'].set_color('white')\n",
    "g.spines['left'].set_color('white')\n",
    "g.xaxis.label.set_color('black')\n",
    "ax.tick_params(axis='x', colors='black')\n",
    "ax.tick_params(axis='y', colors='black')\n",
    "\n",
    "style = dict(size=13)\n",
    "\n",
    "g.text(0, 0.25, \"13%\",**style)\n",
    "g.text(1, 2.00, \"195%\",**style);\n",
    "\n",
    "plt.title(\"% of goal funded\", fontsize=16,fontweight='bold',pad=35,\\\n",
    "        loc='left', horizontalalignment='center', verticalalignment='center');\n",
    "\n"
   ]
  },
  {
   "cell_type": "markdown",
   "metadata": {},
   "source": [
    "## CAMPAIGN STRUCTURE Analysis"
   ]
  },
  {
   "cell_type": "markdown",
   "metadata": {},
   "source": [
    "### 1. Relationship between Goal and Campaing Result"
   ]
  },
  {
   "cell_type": "code",
   "execution_count": 213,
   "metadata": {},
   "outputs": [
    {
     "data": {
      "text/plain": [
       "count    12681.0\n",
       "mean      7511.0\n",
       "std       7367.0\n",
       "min        100.0\n",
       "25%       2000.0\n",
       "50%       5000.0\n",
       "75%      10000.0\n",
       "max      30000.0\n",
       "Name: Goal, dtype: float64"
      ]
     },
     "execution_count": 213,
     "metadata": {},
     "output_type": "execute_result"
    }
   ],
   "source": [
    "round(df['Goal'].describe())"
   ]
  },
  {
   "cell_type": "code",
   "execution_count": 18,
   "metadata": {},
   "outputs": [],
   "source": [
    "goal = pd.DataFrame(df.groupby('Goal').size().rename('Nb projects').reset_index())\n",
    "\n",
    "goal = goal.sort_values('Nb projects',ascending=False)\n",
    "goal['% nb projects'] = round(goal['Nb projects']/len(df)*100,2)\n",
    "\n",
    "goal_10 =goal.head(10)"
   ]
  },
  {
   "cell_type": "code",
   "execution_count": 20,
   "metadata": {},
   "outputs": [
    {
     "data": {
      "text/plain": [
       "332     5000\n",
       "517    10000\n",
       "244     3000\n",
       "190     2000\n",
       "611    15000\n",
       "106     1000\n",
       "216     2500\n",
       "665    20000\n",
       "142     1500\n",
       "704    25000\n",
       "Name: Goal, dtype: int64"
      ]
     },
     "execution_count": 20,
     "metadata": {},
     "output_type": "execute_result"
    }
   ],
   "source": [
    "goal['Goal'].head(10)"
   ]
  },
  {
   "cell_type": "code",
   "execution_count": 32,
   "metadata": {},
   "outputs": [
    {
     "data": {
      "image/png": "[encoded data removed]",
      "text/plain": [
       "<Figure size 1800x576 with 1 Axes>"
      ]
     },
     "metadata": {},
     "output_type": "display_data"
    }
   ],
   "source": [
    "# Most frequent goal amounts\n",
    "fig, ax = plt.subplots(figsize=(25,8))\n",
    "sns.set(style='white')\n",
    "sns.set_context(\"notebook\")\n",
    "sns.set(rc={'axes.facecolor':'white', 'figure.facecolor':'white'})\n",
    "g = sns.barplot(x ='Goal', y = 'Nb projects', data=goal_10.sort_values(by = 'Nb projects',\\\n",
    "                                            ascending = False), color='navy', alpha = 0.6)\n",
    "sns.despine(right=True, top=True)\n",
    "plt.xticks(fontsize=20)\n",
    "plt.yticks(fontsize=20)\n",
    "\n",
    "g.xaxis.set_label_text(\"\")\n",
    "g.yaxis.set_label_text(\"\");\n",
    "\n",
    "\n",
    "labels =['1,000', '1,500','2,000','2,500','3,000','5,000','10,000','15,000','20,000','25,000']\n",
    "g.set_xticklabels(labels);\n",
    "\n",
    "labels2 =['0','200','400' ,'600','800','1,000']\n",
    "g.set_yticklabels(labels2);\n",
    "\n",
    "plt.title(\"10 most frequent Goal Amount \", fontsize=30,fontweight='bold',pad=35,\\\n",
    "        loc='center', horizontalalignment='center', verticalalignment='center');\n",
    "\n"
   ]
  },
  {
   "cell_type": "code",
   "execution_count": 33,
   "metadata": {
    "scrolled": false
   },
   "outputs": [
    {
     "data": {
      "image/png": "[encoded data removed]",
      "text/plain": [
       "<Figure size 1440x720 with 1 Axes>"
      ]
     },
     "metadata": {},
     "output_type": "display_data"
    }
   ],
   "source": [
    "# Goal amount distribution within the whole dataset\n",
    "plt.subplots(figsize=(20,10))\n",
    "sns.set(style='white')\n",
    "sns.set_context(\"notebook\")\n",
    "sns.set(rc={'axes.facecolor':'white', 'figure.facecolor':'white'})\n",
    "\n",
    "g = sns.distplot(df['Goal'], kde = False, color=\"navy\", bins = 35)\n",
    "\n",
    "sns.despine(right=True, top=True)\n",
    "plt.xticks(fontsize=16)\n",
    "plt.yticks(fontsize=16)\n",
    "\n",
    "labels = ['0','100','5,000', '10,000', '15,000','20,000', '25,000', '30,000']\n",
    "g.set_xticklabels(labels);\n",
    "\n",
    "g.get_yaxis().set_major_formatter(\n",
    "matplotlib.ticker.FuncFormatter(lambda x, p: format(int(x), ',')))\n",
    "g.grid(False)\n",
    "g.xaxis.set_label_text(\"\")\n",
    "g.yaxis.set_label_text(\"\");\n",
    "\n",
    "plt.title(\"Goal amount distribution\", fontsize=25,fontweight='bold',pad=35,\\\n",
    "        loc='center', horizontalalignment='center', verticalalignment='center');\n"
   ]
  },
  {
   "cell_type": "code",
   "execution_count": 37,
   "metadata": {},
   "outputs": [
    {
     "data": {
      "image/png": "[encoded data removed]",
      "text/plain": [
       "<Figure size 1440x504 with 1 Axes>"
      ]
     },
     "metadata": {},
     "output_type": "display_data"
    }
   ],
   "source": [
    "fig, ax = plt.subplots(figsize=(20,7))\n",
    "sns.set(style='white')\n",
    "sns.set_context(\"notebook\")\n",
    "sns.despine(left=True)\n",
    "g = sns.boxplot(x=\"Goal\", data = goal, width=0.25, linewidth=2.75, \\\n",
    "            fliersize=3.5, color = '#938BC6')\n",
    "plt.xticks(fontsize=15)\n",
    "\n",
    "labels = ['0','100','5,000', '10,000', '15,000','20,000', '25,000', '30,000']\n",
    "g.set_xticklabels(labels);\n",
    "\n",
    "g.xaxis.set_label_text(\"\");\n",
    "\n",
    "plt.title(\"Goal amount boxplot\", fontsize=25,fontweight='bold',pad=35,\\\n",
    "        loc='center', horizontalalignment='center', verticalalignment='center');"
   ]
  },
  {
   "cell_type": "code",
   "execution_count": 25,
   "metadata": {},
   "outputs": [
    {
     "data": {
      "text/plain": [
       "count     5843.0\n",
       "mean      8794.0\n",
       "std       7957.0\n",
       "min        100.0\n",
       "25%       2700.0\n",
       "50%       6000.0\n",
       "75%      12000.0\n",
       "max      30000.0\n",
       "Name: Goal, dtype: float64"
      ]
     },
     "execution_count": 25,
     "metadata": {},
     "output_type": "execute_result"
    }
   ],
   "source": [
    "# Goal distribution for failed projects\n",
    "df.loc[df[\"State\"]==\"failed\"]['Goal'].describe().round()"
   ]
  },
  {
   "cell_type": "code",
   "execution_count": 26,
   "metadata": {},
   "outputs": [
    {
     "data": {
      "text/plain": [
       "count     6838.0\n",
       "mean      6414.0\n",
       "std       6630.0\n",
       "min        100.0\n",
       "25%       1800.0\n",
       "50%       4000.0\n",
       "75%       9000.0\n",
       "max      30000.0\n",
       "Name: Goal, dtype: float64"
      ]
     },
     "execution_count": 26,
     "metadata": {},
     "output_type": "execute_result"
    }
   ],
   "source": [
    "# Goal distribution for successful projects\n",
    "df.loc[df[\"State\"]==\"successful\"]['Goal'].describe().round()"
   ]
  },
  {
   "cell_type": "code",
   "execution_count": 27,
   "metadata": {},
   "outputs": [
    {
     "data": {
      "image/png": "[encoded data removed]",
      "text/plain": [
       "<Figure size 864x432 with 1 Axes>"
      ]
     },
     "metadata": {},
     "output_type": "display_data"
    }
   ],
   "source": [
    "# Goal distribution by final state\n",
    "fig, ax = plt.subplots(figsize=(12,6))\n",
    "sns.set(style='white')\n",
    "sns.set_context(\"notebook\")\n",
    "\n",
    "sns.despine(left = True)\n",
    "g = sns.boxplot(x=\"Goal\", y= \"State\",data = df, width=0.25, linewidth=0.75, \\\n",
    "            fliersize=0.85) \n",
    "            \n",
    "failes = ax.artists[0]\n",
    "succ = ax.artists[1]\n",
    "\n",
    "failes.set_facecolor('#FFA500')\n",
    "failes.set_edgecolor('grey')\n",
    "failes.set_linewidth(0.1); \n",
    " \n",
    "succ.set_facecolor('#2ED623')\n",
    "succ.set_edgecolor('grey')\n",
    "succ.set_linewidth(0.1)\n",
    "\n",
    "labels = ['Failed', 'Successful']\n",
    "g.set_yticklabels(labels)\n",
    "plt.xticks(fontsize=12)\n",
    "plt.yticks(fontsize=12)\n",
    "\n",
    "labels = ['0','100','5,000', '10,000', '15,000','20,000', '25,000', '30,000']\n",
    "g.set_xticklabels(labels);\n",
    "\n",
    "g.xaxis.set_label_text(\"\")\n",
    "g.yaxis.set_label_text(\"\");\n",
    "\n",
    "plt.title(\"Goal Distribution by Final State \", fontsize=20,fontweight='bold',pad=35,\\\n",
    "        loc='center', horizontalalignment='center');"
   ]
  },
  {
   "cell_type": "markdown",
   "metadata": {},
   "source": [
    "### 2. Relationship between Campaing Duration and Result"
   ]
  },
  {
   "cell_type": "code",
   "execution_count": 28,
   "metadata": {},
   "outputs": [
    {
     "data": {
      "text/plain": [
       "count    12681.000000\n",
       "mean        30.962069\n",
       "std          9.843815\n",
       "min          1.000000\n",
       "25%         29.000000\n",
       "50%         30.000000\n",
       "75%         31.000000\n",
       "max         60.000000\n",
       "Name: Duration in Days, dtype: float64"
      ]
     },
     "execution_count": 28,
     "metadata": {},
     "output_type": "execute_result"
    }
   ],
   "source": [
    "df['Duration in Days'].describe()"
   ]
  },
  {
   "cell_type": "code",
   "execution_count": 41,
   "metadata": {},
   "outputs": [
    {
     "data": {
      "image/png": "[encoded data removed]",
      "text/plain": [
       "<Figure size 1440x432 with 1 Axes>"
      ]
     },
     "metadata": {},
     "output_type": "display_data"
    }
   ],
   "source": [
    "# Duration distribution within the whole dataset\n",
    "fig, ax = plt.subplots(figsize=(20,6))\n",
    "sns.set(style='white')\n",
    "sns.set_context(\"notebook\")\n",
    "sns.set(rc={'axes.facecolor':'white', 'figure.facecolor':'white'})\n",
    "plt.hist(df['Duration in Days'], density = True, bins = 6, color ='#938BC6');\n",
    "\n",
    "sns.despine(right=True, top=True)\n",
    "plt.xticks(fontsize=15,fontweight='bold')\n",
    "plt.yticks(fontsize=15,fontweight='bold')\n",
    "plt.xlabel(\"Days\", labelpad=10, fontsize = 17,fontweight='bold');\n",
    "\n",
    "plt.title(\"Duration Distribution\", fontsize=20,fontweight='bold',pad=35,\\\n",
    "        loc='left', horizontalalignment='center');"
   ]
  },
  {
   "cell_type": "code",
   "execution_count": 42,
   "metadata": {},
   "outputs": [],
   "source": [
    "# duration distribution failed projects\n",
    "duration_rates = df.loc[df[\"State\"]==\"failed\"]['Duration in Days'].to_frame()"
   ]
  },
  {
   "cell_type": "code",
   "execution_count": 43,
   "metadata": {},
   "outputs": [
    {
     "data": {
      "text/html": [
       "<div>\n",
       "<style scoped>\n",
       "    .dataframe tbody tr th:only-of-type {\n",
       "        vertical-align: middle;\n",
       "    }\n",
       "\n",
       "    .dataframe tbody tr th {\n",
       "        vertical-align: top;\n",
       "    }\n",
       "\n",
       "    .dataframe thead th {\n",
       "        text-align: right;\n",
       "    }\n",
       "</style>\n",
       "<table border=\"1\" class=\"dataframe\">\n",
       "  <thead>\n",
       "    <tr style=\"text-align: right;\">\n",
       "      <th></th>\n",
       "      <th>Duration in Days</th>\n",
       "    </tr>\n",
       "  </thead>\n",
       "  <tbody>\n",
       "    <tr>\n",
       "      <th>count</th>\n",
       "      <td>5843.000000</td>\n",
       "    </tr>\n",
       "    <tr>\n",
       "      <th>mean</th>\n",
       "      <td>32.329112</td>\n",
       "    </tr>\n",
       "    <tr>\n",
       "      <th>std</th>\n",
       "      <td>10.478554</td>\n",
       "    </tr>\n",
       "    <tr>\n",
       "      <th>min</th>\n",
       "      <td>1.000000</td>\n",
       "    </tr>\n",
       "    <tr>\n",
       "      <th>25%</th>\n",
       "      <td>29.000000</td>\n",
       "    </tr>\n",
       "    <tr>\n",
       "      <th>50%</th>\n",
       "      <td>30.000000</td>\n",
       "    </tr>\n",
       "    <tr>\n",
       "      <th>75%</th>\n",
       "      <td>32.000000</td>\n",
       "    </tr>\n",
       "    <tr>\n",
       "      <th>max</th>\n",
       "      <td>60.000000</td>\n",
       "    </tr>\n",
       "  </tbody>\n",
       "</table>\n",
       "</div>"
      ],
      "text/plain": [
       "       Duration in Days\n",
       "count       5843.000000\n",
       "mean          32.329112\n",
       "std           10.478554\n",
       "min            1.000000\n",
       "25%           29.000000\n",
       "50%           30.000000\n",
       "75%           32.000000\n",
       "max           60.000000"
      ]
     },
     "execution_count": 43,
     "metadata": {},
     "output_type": "execute_result"
    }
   ],
   "source": [
    "duration_rates.describe()"
   ]
  },
  {
   "cell_type": "code",
   "execution_count": 44,
   "metadata": {},
   "outputs": [],
   "source": [
    "# duration distribution successful projects\n",
    "duration_succ = df.loc[df[\"State\"]==\"successful\"]['Duration in Days'].to_frame()"
   ]
  },
  {
   "cell_type": "code",
   "execution_count": 45,
   "metadata": {},
   "outputs": [
    {
     "data": {
      "text/html": [
       "<div>\n",
       "<style scoped>\n",
       "    .dataframe tbody tr th:only-of-type {\n",
       "        vertical-align: middle;\n",
       "    }\n",
       "\n",
       "    .dataframe tbody tr th {\n",
       "        vertical-align: top;\n",
       "    }\n",
       "\n",
       "    .dataframe thead th {\n",
       "        text-align: right;\n",
       "    }\n",
       "</style>\n",
       "<table border=\"1\" class=\"dataframe\">\n",
       "  <thead>\n",
       "    <tr style=\"text-align: right;\">\n",
       "      <th></th>\n",
       "      <th>Duration in Days</th>\n",
       "    </tr>\n",
       "  </thead>\n",
       "  <tbody>\n",
       "    <tr>\n",
       "      <th>count</th>\n",
       "      <td>6838.000000</td>\n",
       "    </tr>\n",
       "    <tr>\n",
       "      <th>mean</th>\n",
       "      <td>29.793946</td>\n",
       "    </tr>\n",
       "    <tr>\n",
       "      <th>std</th>\n",
       "      <td>9.106641</td>\n",
       "    </tr>\n",
       "    <tr>\n",
       "      <th>min</th>\n",
       "      <td>1.000000</td>\n",
       "    </tr>\n",
       "    <tr>\n",
       "      <th>25%</th>\n",
       "      <td>28.000000</td>\n",
       "    </tr>\n",
       "    <tr>\n",
       "      <th>50%</th>\n",
       "      <td>30.000000</td>\n",
       "    </tr>\n",
       "    <tr>\n",
       "      <th>75%</th>\n",
       "      <td>30.000000</td>\n",
       "    </tr>\n",
       "    <tr>\n",
       "      <th>max</th>\n",
       "      <td>60.000000</td>\n",
       "    </tr>\n",
       "  </tbody>\n",
       "</table>\n",
       "</div>"
      ],
      "text/plain": [
       "       Duration in Days\n",
       "count       6838.000000\n",
       "mean          29.793946\n",
       "std            9.106641\n",
       "min            1.000000\n",
       "25%           28.000000\n",
       "50%           30.000000\n",
       "75%           30.000000\n",
       "max           60.000000"
      ]
     },
     "execution_count": 45,
     "metadata": {},
     "output_type": "execute_result"
    }
   ],
   "source": [
    "duration_succ.describe()"
   ]
  },
  {
   "cell_type": "code",
   "execution_count": 46,
   "metadata": {},
   "outputs": [
    {
     "data": {
      "image/png": "[encoded data removed]",
      "text/plain": [
       "<Figure size 720x288 with 1 Axes>"
      ]
     },
     "metadata": {},
     "output_type": "display_data"
    }
   ],
   "source": [
    "fig, ax = plt.subplots(figsize=(10,4))\n",
    "sns.set(style='white')\n",
    "sns.set_context(\"notebook\")\n",
    "sns.despine(left = True)\n",
    "g = sns.boxplot(x=\"Duration in Days\", y= \"State\",data = df, width=0.65, linewidth=0.75,\\\n",
    "                fliersize=0)\n",
    "\n",
    "\n",
    "failes = ax.artists[0]\n",
    "succ = ax.artists[1]\n",
    "\n",
    "failes.set_facecolor('#FFA500')\n",
    "failes.set_edgecolor('grey')\n",
    "failes.set_linewidth(0.1); \n",
    "\n",
    "succ.set_facecolor('#2ED623')\n",
    "succ.set_edgecolor('grey')\n",
    "succ.set_linewidth(0.1)\n",
    "\n",
    "labels = ['Failed', 'Successful']\n",
    "g.set_yticklabels(labels,fontweight='bold')\n",
    "plt.xticks(fontsize=12,fontweight='bold')\n",
    "plt.yticks(fontsize=12,fontweight='bold')\n",
    "\n",
    "\n",
    "plt.xlabel(\"Nb Jours\", labelpad=6, fontsize = 12, fontweight='bold');\n",
    "g.yaxis.set_label_text(\"\");\n",
    "plt.title(\"Duration Distribution by Final State \", fontsize=20,fontweight='bold',pad=35,\\\n",
    "        loc='center', horizontalalignment='center');\n"
   ]
  },
  {
   "cell_type": "markdown",
   "metadata": {},
   "source": [
    "### 3. Relationship between project's Category and Campaing Result"
   ]
  },
  {
   "cell_type": "code",
   "execution_count": 47,
   "metadata": {},
   "outputs": [
    {
     "data": {
      "text/html": [
       "<div>\n",
       "<style scoped>\n",
       "    .dataframe tbody tr th:only-of-type {\n",
       "        vertical-align: middle;\n",
       "    }\n",
       "\n",
       "    .dataframe tbody tr th {\n",
       "        vertical-align: top;\n",
       "    }\n",
       "\n",
       "    .dataframe thead th {\n",
       "        text-align: right;\n",
       "    }\n",
       "</style>\n",
       "<table border=\"1\" class=\"dataframe\">\n",
       "  <thead>\n",
       "    <tr style=\"text-align: right;\">\n",
       "      <th></th>\n",
       "      <th>Top Category</th>\n",
       "    </tr>\n",
       "  </thead>\n",
       "  <tbody>\n",
       "    <tr>\n",
       "      <th>Music</th>\n",
       "      <td>17.830</td>\n",
       "    </tr>\n",
       "    <tr>\n",
       "      <th>Film &amp; Video</th>\n",
       "      <td>17.065</td>\n",
       "    </tr>\n",
       "    <tr>\n",
       "      <th>Publishing</th>\n",
       "      <td>12.381</td>\n",
       "    </tr>\n",
       "    <tr>\n",
       "      <th>Games</th>\n",
       "      <td>7.917</td>\n",
       "    </tr>\n",
       "    <tr>\n",
       "      <th>Art</th>\n",
       "      <td>7.846</td>\n",
       "    </tr>\n",
       "    <tr>\n",
       "      <th>Design</th>\n",
       "      <td>7.405</td>\n",
       "    </tr>\n",
       "    <tr>\n",
       "      <th>Food</th>\n",
       "      <td>6.593</td>\n",
       "    </tr>\n",
       "    <tr>\n",
       "      <th>Fashion</th>\n",
       "      <td>5.812</td>\n",
       "    </tr>\n",
       "    <tr>\n",
       "      <th>Technology</th>\n",
       "      <td>3.856</td>\n",
       "    </tr>\n",
       "    <tr>\n",
       "      <th>Comics</th>\n",
       "      <td>3.596</td>\n",
       "    </tr>\n",
       "    <tr>\n",
       "      <th>Theater</th>\n",
       "      <td>3.525</td>\n",
       "    </tr>\n",
       "    <tr>\n",
       "      <th>Photography</th>\n",
       "      <td>2.784</td>\n",
       "    </tr>\n",
       "    <tr>\n",
       "      <th>Dance</th>\n",
       "      <td>1.727</td>\n",
       "    </tr>\n",
       "    <tr>\n",
       "      <th>Crafts</th>\n",
       "      <td>1.293</td>\n",
       "    </tr>\n",
       "    <tr>\n",
       "      <th>Journalism</th>\n",
       "      <td>0.371</td>\n",
       "    </tr>\n",
       "  </tbody>\n",
       "</table>\n",
       "</div>"
      ],
      "text/plain": [
       "              Top Category\n",
       "Music               17.830\n",
       "Film & Video        17.065\n",
       "Publishing          12.381\n",
       "Games                7.917\n",
       "Art                  7.846\n",
       "Design               7.405\n",
       "Food                 6.593\n",
       "Fashion              5.812\n",
       "Technology           3.856\n",
       "Comics               3.596\n",
       "Theater              3.525\n",
       "Photography          2.784\n",
       "Dance                1.727\n",
       "Crafts               1.293\n",
       "Journalism           0.371"
      ]
     },
     "execution_count": 47,
     "metadata": {},
     "output_type": "execute_result"
    }
   ],
   "source": [
    "perc_cat = round(df['Top Category'].value_counts()/len(df)*100,3).to_frame()\n",
    "perc_cat"
   ]
  },
  {
   "cell_type": "code",
   "execution_count": 49,
   "metadata": {},
   "outputs": [
    {
     "data": {
      "image/png": "[encoded data removed]",
      "text/plain": [
       "<Figure size 1440x720 with 1 Axes>"
      ]
     },
     "metadata": {},
     "output_type": "display_data"
    }
   ],
   "source": [
    "# Most popular categories\n",
    "fig, ax = plt.subplots(figsize=(20,10))\n",
    "sns.set(style='white')\n",
    "sns.set_context(\"notebook\")\n",
    "g = sns.countplot(y = df['Top Category'], color='navy',alpha = 0.6,order=df['Top Category'].value_counts().index)\n",
    "\n",
    "sns.despine(left=True)\n",
    "ax.xaxis.set_major_formatter(StrMethodFormatter('{x:,g}'))\n",
    "plt.xticks(fontsize=15,)\n",
    "plt.yticks(fontsize=18)\n",
    "\n",
    "g.xaxis.set_label_text(\"\")\n",
    "g.yaxis.set_label_text(\"\");\n",
    "plt.title(\"Most popular categories\", fontsize=20,fontweight='bold',pad=35,\\\n",
    "        loc='center', horizontalalignment='center');\n",
    "\n",
    "\n",
    "label =[17.83, 17.10, 12.38, 7.92, 7.85, 7.41, 6.59, 5.81, 3.86, 3.60, 3.53, 2.78,\\\n",
    "        1.73, 1.30, 0.40]\n",
    "\n",
    "\n",
    "for i,p in enumerate(g.patches):\n",
    "        percentage = '{:.1f}%'.format(label[i])\n",
    "        x = p.get_x() + p.get_width() + 20\n",
    "        y = p.get_y() + p.get_height()/2\n",
    "        g.annotate(percentage, (x, y), size=19, color = 'black', fontweight='bold')"
   ]
  },
  {
   "cell_type": "code",
   "execution_count": 54,
   "metadata": {},
   "outputs": [
    {
     "data": {
      "text/html": [
       "<div>\n",
       "<style scoped>\n",
       "    .dataframe tbody tr th:only-of-type {\n",
       "        vertical-align: middle;\n",
       "    }\n",
       "\n",
       "    .dataframe tbody tr th {\n",
       "        vertical-align: top;\n",
       "    }\n",
       "\n",
       "    .dataframe thead th {\n",
       "        text-align: right;\n",
       "    }\n",
       "</style>\n",
       "<table border=\"1\" class=\"dataframe\">\n",
       "  <thead>\n",
       "    <tr style=\"text-align: right;\">\n",
       "      <th></th>\n",
       "      <th>Top Category</th>\n",
       "      <th>State</th>\n",
       "      <th>nb</th>\n",
       "    </tr>\n",
       "  </thead>\n",
       "  <tbody>\n",
       "    <tr>\n",
       "      <th>0</th>\n",
       "      <td>Art</td>\n",
       "      <td>failed</td>\n",
       "      <td>442</td>\n",
       "    </tr>\n",
       "    <tr>\n",
       "      <th>1</th>\n",
       "      <td>Comics</td>\n",
       "      <td>failed</td>\n",
       "      <td>176</td>\n",
       "    </tr>\n",
       "    <tr>\n",
       "      <th>2</th>\n",
       "      <td>Crafts</td>\n",
       "      <td>failed</td>\n",
       "      <td>95</td>\n",
       "    </tr>\n",
       "    <tr>\n",
       "      <th>3</th>\n",
       "      <td>Dance</td>\n",
       "      <td>failed</td>\n",
       "      <td>57</td>\n",
       "    </tr>\n",
       "    <tr>\n",
       "      <th>4</th>\n",
       "      <td>Design</td>\n",
       "      <td>failed</td>\n",
       "      <td>489</td>\n",
       "    </tr>\n",
       "  </tbody>\n",
       "</table>\n",
       "</div>"
      ],
      "text/plain": [
       "  Top Category   State   nb\n",
       "0          Art  failed  442\n",
       "1       Comics  failed  176\n",
       "2       Crafts  failed   95\n",
       "3        Dance  failed   57\n",
       "4       Design  failed  489"
      ]
     },
     "execution_count": 54,
     "metadata": {},
     "output_type": "execute_result"
    }
   ],
   "source": [
    "failed = df[df['State']=='failed']\n",
    "failed_cat = failed.groupby('Top Category')['State'].value_counts().to_frame()\n",
    "\n",
    "failed_cat = failed_cat.rename(columns={'Top Category':'category',\\\n",
    "                                      'State':'state', 'State':'nb'})\n",
    "failed_cat.reset_index(inplace = True)\n",
    "\n",
    "failed_cat.head()"
   ]
  },
  {
   "cell_type": "code",
   "execution_count": 51,
   "metadata": {},
   "outputs": [
    {
     "data": {
      "text/html": [
       "<div>\n",
       "<style scoped>\n",
       "    .dataframe tbody tr th:only-of-type {\n",
       "        vertical-align: middle;\n",
       "    }\n",
       "\n",
       "    .dataframe tbody tr th {\n",
       "        vertical-align: top;\n",
       "    }\n",
       "\n",
       "    .dataframe thead th {\n",
       "        text-align: right;\n",
       "    }\n",
       "</style>\n",
       "<table border=\"1\" class=\"dataframe\">\n",
       "  <thead>\n",
       "    <tr style=\"text-align: right;\">\n",
       "      <th></th>\n",
       "      <th>Top Category</th>\n",
       "      <th>State</th>\n",
       "      <th>nb</th>\n",
       "    </tr>\n",
       "  </thead>\n",
       "  <tbody>\n",
       "    <tr>\n",
       "      <th>0</th>\n",
       "      <td>Art</td>\n",
       "      <td>successful</td>\n",
       "      <td>553</td>\n",
       "    </tr>\n",
       "    <tr>\n",
       "      <th>1</th>\n",
       "      <td>Comics</td>\n",
       "      <td>successful</td>\n",
       "      <td>280</td>\n",
       "    </tr>\n",
       "    <tr>\n",
       "      <th>2</th>\n",
       "      <td>Crafts</td>\n",
       "      <td>successful</td>\n",
       "      <td>69</td>\n",
       "    </tr>\n",
       "    <tr>\n",
       "      <th>3</th>\n",
       "      <td>Dance</td>\n",
       "      <td>successful</td>\n",
       "      <td>162</td>\n",
       "    </tr>\n",
       "    <tr>\n",
       "      <th>4</th>\n",
       "      <td>Design</td>\n",
       "      <td>successful</td>\n",
       "      <td>450</td>\n",
       "    </tr>\n",
       "  </tbody>\n",
       "</table>\n",
       "</div>"
      ],
      "text/plain": [
       "  Top Category       State   nb\n",
       "0          Art  successful  553\n",
       "1       Comics  successful  280\n",
       "2       Crafts  successful   69\n",
       "3        Dance  successful  162\n",
       "4       Design  successful  450"
      ]
     },
     "execution_count": 51,
     "metadata": {},
     "output_type": "execute_result"
    }
   ],
   "source": [
    "successful = df[df['State']=='successful']\n",
    "\n",
    "successful_cat = successful.groupby('Top Category')['State'].value_counts().to_frame()\n",
    "\n",
    "\n",
    "successful_cat = successful_cat.rename(columns={'Top Category':'category',\\\n",
    "                                      'State':'state', 'State':'nb'})\n",
    "successful_cat.reset_index(inplace = True)\n",
    "\n",
    "successful_cat.head()"
   ]
  },
  {
   "cell_type": "code",
   "execution_count": 60,
   "metadata": {},
   "outputs": [],
   "source": [
    "total = []\n",
    "for i in range(15):\n",
    "    total.append(successful_cat.iloc[i]['nb'] + failed_cat.iloc[i]['nb'])\n",
    "\n",
    "successful_cat['total'] = total\n",
    "failed_cat['total'] = total"
   ]
  },
  {
   "cell_type": "code",
   "execution_count": 61,
   "metadata": {},
   "outputs": [],
   "source": [
    "failed_perc = []\n",
    "\n",
    "for i in range(15):\n",
    "    failed_perc.append(round(failed_cat.iloc[i]['nb']/failed_cat.iloc[i]['total']*100))\n",
    "\n",
    "failed_cat['%'] = failed_perc\n",
    "\n",
    "successfl_perc = []\n",
    "for i in range(15):\n",
    "    successfl_perc.append(round(successful_cat.iloc[i]['nb']/successful_cat.iloc[i]['total']*100))\n",
    "\n",
    "successful_cat['%'] = successfl_perc"
   ]
  },
  {
   "cell_type": "code",
   "execution_count": 63,
   "metadata": {},
   "outputs": [
    {
     "data": {
      "text/html": [
       "<div>\n",
       "<style scoped>\n",
       "    .dataframe tbody tr th:only-of-type {\n",
       "        vertical-align: middle;\n",
       "    }\n",
       "\n",
       "    .dataframe tbody tr th {\n",
       "        vertical-align: top;\n",
       "    }\n",
       "\n",
       "    .dataframe thead th {\n",
       "        text-align: right;\n",
       "    }\n",
       "</style>\n",
       "<table border=\"1\" class=\"dataframe\">\n",
       "  <thead>\n",
       "    <tr style=\"text-align: right;\">\n",
       "      <th></th>\n",
       "      <th>Top Category</th>\n",
       "      <th>State</th>\n",
       "      <th>nb</th>\n",
       "      <th>total</th>\n",
       "      <th>%</th>\n",
       "    </tr>\n",
       "  </thead>\n",
       "  <tbody>\n",
       "    <tr>\n",
       "      <th>3</th>\n",
       "      <td>Dance</td>\n",
       "      <td>successful</td>\n",
       "      <td>162</td>\n",
       "      <td>219</td>\n",
       "      <td>74.0</td>\n",
       "    </tr>\n",
       "    <tr>\n",
       "      <th>14</th>\n",
       "      <td>Theater</td>\n",
       "      <td>successful</td>\n",
       "      <td>323</td>\n",
       "      <td>447</td>\n",
       "      <td>72.0</td>\n",
       "    </tr>\n",
       "    <tr>\n",
       "      <th>10</th>\n",
       "      <td>Music</td>\n",
       "      <td>successful</td>\n",
       "      <td>1464</td>\n",
       "      <td>2261</td>\n",
       "      <td>65.0</td>\n",
       "    </tr>\n",
       "    <tr>\n",
       "      <th>1</th>\n",
       "      <td>Comics</td>\n",
       "      <td>successful</td>\n",
       "      <td>280</td>\n",
       "      <td>456</td>\n",
       "      <td>61.0</td>\n",
       "    </tr>\n",
       "    <tr>\n",
       "      <th>8</th>\n",
       "      <td>Games</td>\n",
       "      <td>successful</td>\n",
       "      <td>596</td>\n",
       "      <td>1004</td>\n",
       "      <td>59.0</td>\n",
       "    </tr>\n",
       "    <tr>\n",
       "      <th>6</th>\n",
       "      <td>Film &amp; Video</td>\n",
       "      <td>successful</td>\n",
       "      <td>1250</td>\n",
       "      <td>2164</td>\n",
       "      <td>58.0</td>\n",
       "    </tr>\n",
       "    <tr>\n",
       "      <th>0</th>\n",
       "      <td>Art</td>\n",
       "      <td>successful</td>\n",
       "      <td>553</td>\n",
       "      <td>995</td>\n",
       "      <td>56.0</td>\n",
       "    </tr>\n",
       "    <tr>\n",
       "      <th>4</th>\n",
       "      <td>Design</td>\n",
       "      <td>successful</td>\n",
       "      <td>450</td>\n",
       "      <td>939</td>\n",
       "      <td>48.0</td>\n",
       "    </tr>\n",
       "    <tr>\n",
       "      <th>7</th>\n",
       "      <td>Food</td>\n",
       "      <td>successful</td>\n",
       "      <td>379</td>\n",
       "      <td>836</td>\n",
       "      <td>45.0</td>\n",
       "    </tr>\n",
       "    <tr>\n",
       "      <th>11</th>\n",
       "      <td>Photography</td>\n",
       "      <td>successful</td>\n",
       "      <td>152</td>\n",
       "      <td>353</td>\n",
       "      <td>43.0</td>\n",
       "    </tr>\n",
       "    <tr>\n",
       "      <th>2</th>\n",
       "      <td>Crafts</td>\n",
       "      <td>successful</td>\n",
       "      <td>69</td>\n",
       "      <td>164</td>\n",
       "      <td>42.0</td>\n",
       "    </tr>\n",
       "    <tr>\n",
       "      <th>12</th>\n",
       "      <td>Publishing</td>\n",
       "      <td>successful</td>\n",
       "      <td>652</td>\n",
       "      <td>1570</td>\n",
       "      <td>42.0</td>\n",
       "    </tr>\n",
       "    <tr>\n",
       "      <th>13</th>\n",
       "      <td>Technology</td>\n",
       "      <td>successful</td>\n",
       "      <td>207</td>\n",
       "      <td>489</td>\n",
       "      <td>42.0</td>\n",
       "    </tr>\n",
       "    <tr>\n",
       "      <th>5</th>\n",
       "      <td>Fashion</td>\n",
       "      <td>successful</td>\n",
       "      <td>283</td>\n",
       "      <td>737</td>\n",
       "      <td>38.0</td>\n",
       "    </tr>\n",
       "    <tr>\n",
       "      <th>9</th>\n",
       "      <td>Journalism</td>\n",
       "      <td>successful</td>\n",
       "      <td>18</td>\n",
       "      <td>47</td>\n",
       "      <td>38.0</td>\n",
       "    </tr>\n",
       "  </tbody>\n",
       "</table>\n",
       "</div>"
      ],
      "text/plain": [
       "    Top Category       State    nb  total     %\n",
       "3          Dance  successful   162    219  74.0\n",
       "14       Theater  successful   323    447  72.0\n",
       "10         Music  successful  1464   2261  65.0\n",
       "1         Comics  successful   280    456  61.0\n",
       "8          Games  successful   596   1004  59.0\n",
       "6   Film & Video  successful  1250   2164  58.0\n",
       "0            Art  successful   553    995  56.0\n",
       "4         Design  successful   450    939  48.0\n",
       "7           Food  successful   379    836  45.0\n",
       "11   Photography  successful   152    353  43.0\n",
       "2         Crafts  successful    69    164  42.0\n",
       "12    Publishing  successful   652   1570  42.0\n",
       "13    Technology  successful   207    489  42.0\n",
       "5        Fashion  successful   283    737  38.0\n",
       "9     Journalism  successful    18     47  38.0"
      ]
     },
     "execution_count": 63,
     "metadata": {},
     "output_type": "execute_result"
    }
   ],
   "source": [
    "successful_cat.sort_values(by='%', ascending = False)"
   ]
  },
  {
   "cell_type": "code",
   "execution_count": 65,
   "metadata": {},
   "outputs": [
    {
     "data": {
      "text/plain": [
       "52.2"
      ]
     },
     "execution_count": 65,
     "metadata": {},
     "output_type": "execute_result"
    }
   ],
   "source": [
    "# average successful rate for all categories\n",
    "successful_cat['%'].mean()"
   ]
  },
  {
   "cell_type": "code",
   "execution_count": 66,
   "metadata": {},
   "outputs": [],
   "source": [
    "perc_failed = np.array(failed_cat.iloc[:,4])\n",
    "perc_succ = np.array(successful_cat.iloc[:,4])\n",
    "\n",
    "categ = list(failed_cat.iloc[:,0])\n"
   ]
  },
  {
   "cell_type": "code",
   "execution_count": 77,
   "metadata": {},
   "outputs": [
    {
     "data": {
      "image/png": "[encoded data removed]",
      "text/plain": [
       "<Figure size 2880x1296 with 1 Axes>"
      ]
     },
     "metadata": {},
     "output_type": "display_data"
    }
   ],
   "source": [
    "# Ratios failed/successful projets by category\n",
    "sns.set(rc={'axes.facecolor':'white', 'figure.facecolor':'white'})\n",
    "plt.figure(figsize = (40,18))\n",
    "plt.bar(categ,perc_succ, align='center', color='#2ED623')\n",
    "plt.bar(categ,perc_failed, bottom =perc_succ, align='center', color='#FFA500')\n",
    "plt.grid(b=None)\n",
    "\n",
    "plt.xticks(categ, rotation = 45)\n",
    "\n",
    "plt.legend(['Successful','Failed'],loc='upper center', bbox_to_anchor=(0.5, 1.05),\n",
    "          ncol=2, fancybox=True, shadow=True, prop={'size': 35})\n",
    "\n",
    "plt.xticks(fontsize=30)\n",
    "plt.yticks(fontsize=30);\n",
    "\n",
    "plt.title(\"Ratios failed/successful projets by category\", fontsize=40,fontweight='bold',pad=45,\\\n",
    "        loc='center', horizontalalignment='center');\n"
   ]
  },
  {
   "cell_type": "markdown",
   "metadata": {},
   "source": [
    "## COMMUNICATION Factor Analysis"
   ]
  },
  {
   "cell_type": "markdown",
   "metadata": {},
   "source": [
    "### 1. Description's Length and final state relationship"
   ]
  },
  {
   "cell_type": "code",
   "execution_count": 64,
   "metadata": {},
   "outputs": [
    {
     "data": {
      "text/plain": [
       "count    12681.000000\n",
       "mean       615.751203\n",
       "std        534.659264\n",
       "min          3.000000\n",
       "25%        263.000000\n",
       "50%        456.000000\n",
       "75%        796.000000\n",
       "max       5140.000000\n",
       "Name: # Words (Description), dtype: float64"
      ]
     },
     "execution_count": 64,
     "metadata": {},
     "output_type": "execute_result"
    }
   ],
   "source": [
    "df['# Words (Description)'].describe()"
   ]
  },
  {
   "cell_type": "code",
   "execution_count": 78,
   "metadata": {},
   "outputs": [
    {
     "data": {
      "text/html": [
       "<div>\n",
       "<style scoped>\n",
       "    .dataframe tbody tr th:only-of-type {\n",
       "        vertical-align: middle;\n",
       "    }\n",
       "\n",
       "    .dataframe tbody tr th {\n",
       "        vertical-align: top;\n",
       "    }\n",
       "\n",
       "    .dataframe thead th {\n",
       "        text-align: right;\n",
       "    }\n",
       "</style>\n",
       "<table border=\"1\" class=\"dataframe\">\n",
       "  <thead>\n",
       "    <tr style=\"text-align: right;\">\n",
       "      <th></th>\n",
       "      <th># Words (Description)</th>\n",
       "    </tr>\n",
       "  </thead>\n",
       "  <tbody>\n",
       "    <tr>\n",
       "      <th>count</th>\n",
       "      <td>5843.0</td>\n",
       "    </tr>\n",
       "    <tr>\n",
       "      <th>mean</th>\n",
       "      <td>539.0</td>\n",
       "    </tr>\n",
       "    <tr>\n",
       "      <th>std</th>\n",
       "      <td>495.0</td>\n",
       "    </tr>\n",
       "    <tr>\n",
       "      <th>min</th>\n",
       "      <td>3.0</td>\n",
       "    </tr>\n",
       "    <tr>\n",
       "      <th>25%</th>\n",
       "      <td>222.0</td>\n",
       "    </tr>\n",
       "    <tr>\n",
       "      <th>50%</th>\n",
       "      <td>387.0</td>\n",
       "    </tr>\n",
       "    <tr>\n",
       "      <th>75%</th>\n",
       "      <td>686.0</td>\n",
       "    </tr>\n",
       "    <tr>\n",
       "      <th>max</th>\n",
       "      <td>5140.0</td>\n",
       "    </tr>\n",
       "  </tbody>\n",
       "</table>\n",
       "</div>"
      ],
      "text/plain": [
       "       # Words (Description)\n",
       "count                 5843.0\n",
       "mean                   539.0\n",
       "std                    495.0\n",
       "min                      3.0\n",
       "25%                    222.0\n",
       "50%                    387.0\n",
       "75%                    686.0\n",
       "max                   5140.0"
      ]
     },
     "execution_count": 78,
     "metadata": {},
     "output_type": "execute_result"
    }
   ],
   "source": [
    "# Description's length distribution failed projects\n",
    "words_nb_failed = df.loc[df[\"State\"]==\"failed\"]['# Words (Description)'].to_frame()\n",
    "words_nb_failed.describe().round()"
   ]
  },
  {
   "cell_type": "code",
   "execution_count": 79,
   "metadata": {},
   "outputs": [
    {
     "data": {
      "text/html": [
       "<div>\n",
       "<style scoped>\n",
       "    .dataframe tbody tr th:only-of-type {\n",
       "        vertical-align: middle;\n",
       "    }\n",
       "\n",
       "    .dataframe tbody tr th {\n",
       "        vertical-align: top;\n",
       "    }\n",
       "\n",
       "    .dataframe thead th {\n",
       "        text-align: right;\n",
       "    }\n",
       "</style>\n",
       "<table border=\"1\" class=\"dataframe\">\n",
       "  <thead>\n",
       "    <tr style=\"text-align: right;\">\n",
       "      <th></th>\n",
       "      <th># Words (Description)</th>\n",
       "    </tr>\n",
       "  </thead>\n",
       "  <tbody>\n",
       "    <tr>\n",
       "      <th>count</th>\n",
       "      <td>6838.000000</td>\n",
       "    </tr>\n",
       "    <tr>\n",
       "      <th>mean</th>\n",
       "      <td>681.653115</td>\n",
       "    </tr>\n",
       "    <tr>\n",
       "      <th>std</th>\n",
       "      <td>558.164081</td>\n",
       "    </tr>\n",
       "    <tr>\n",
       "      <th>min</th>\n",
       "      <td>10.000000</td>\n",
       "    </tr>\n",
       "    <tr>\n",
       "      <th>25%</th>\n",
       "      <td>304.000000</td>\n",
       "    </tr>\n",
       "    <tr>\n",
       "      <th>50%</th>\n",
       "      <td>522.000000</td>\n",
       "    </tr>\n",
       "    <tr>\n",
       "      <th>75%</th>\n",
       "      <td>881.000000</td>\n",
       "    </tr>\n",
       "    <tr>\n",
       "      <th>max</th>\n",
       "      <td>4724.000000</td>\n",
       "    </tr>\n",
       "  </tbody>\n",
       "</table>\n",
       "</div>"
      ],
      "text/plain": [
       "       # Words (Description)\n",
       "count            6838.000000\n",
       "mean              681.653115\n",
       "std               558.164081\n",
       "min                10.000000\n",
       "25%               304.000000\n",
       "50%               522.000000\n",
       "75%               881.000000\n",
       "max              4724.000000"
      ]
     },
     "execution_count": 79,
     "metadata": {},
     "output_type": "execute_result"
    }
   ],
   "source": [
    "# Description's length distribution successful projects\n",
    "words_nb_succ = df.loc[df[\"State\"]==\"successful\"]['# Words (Description)'].to_frame()\n",
    "words_nb_succ.describe()"
   ]
  },
  {
   "cell_type": "code",
   "execution_count": 80,
   "metadata": {},
   "outputs": [
    {
     "data": {
      "image/png": "[encoded data removed]",
      "text/plain": [
       "<Figure size 648x504 with 1 Axes>"
      ]
     },
     "metadata": {},
     "output_type": "display_data"
    }
   ],
   "source": [
    "fig, ax = plt.subplots(figsize=(9,7))\n",
    "sns.set(style='white')\n",
    "sns.set_context(\"notebook\")\n",
    "sns.despine(left = True)\n",
    "g = sns.boxplot(x=\"# Words (Description)\", y= \"State\",data = df, width=0.25, linewidth=0.75, \\\n",
    "            fliersize=0)\n",
    "\n",
    "g.axis(xmin=0, xmax=2000)\n",
    "\n",
    "failes = ax.artists[0]\n",
    "succ = ax.artists[1]\n",
    "\n",
    "failes.set_facecolor('#FFA500')\n",
    "failes.set_edgecolor('grey')\n",
    "failes.set_linewidth(0.1); \n",
    "\n",
    "succ.set_facecolor('#2ED623') \n",
    "succ.set_edgecolor('grey')\n",
    "succ.set_linewidth(0.1)\n",
    "\n",
    "labels = ['Failed', 'Successful']\n",
    "g.set_yticklabels(labels)\n",
    "plt.xticks(fontsize=12)\n",
    "plt.yticks(fontsize=12)\n",
    "\n",
    "g.xaxis.set_label_text(\"\")\n",
    "g.yaxis.set_label_text(\"\");\n",
    "\n",
    "g.get_xaxis().set_major_formatter(\n",
    "matplotlib.ticker.FuncFormatter(lambda x, p: format(int(x), ',')));\n",
    "\n",
    "plt.title(\"Description's Length Distribution by Final State \", fontsize=20,fontweight='bold',pad=35,\\\n",
    "        loc='center', horizontalalignment='center');"
   ]
  },
  {
   "cell_type": "markdown",
   "metadata": {},
   "source": [
    "### 2. Number of Updates and final state relationship"
   ]
  },
  {
   "cell_type": "code",
   "execution_count": 68,
   "metadata": {},
   "outputs": [
    {
     "data": {
      "text/plain": [
       "count    12681.000000\n",
       "mean         3.303446\n",
       "std          5.253603\n",
       "min          0.000000\n",
       "25%          0.000000\n",
       "50%          1.000000\n",
       "75%          5.000000\n",
       "max        128.000000\n",
       "Name: Updates, dtype: float64"
      ]
     },
     "execution_count": 68,
     "metadata": {},
     "output_type": "execute_result"
    }
   ],
   "source": [
    "df['Updates'].describe()"
   ]
  },
  {
   "cell_type": "code",
   "execution_count": 69,
   "metadata": {},
   "outputs": [
    {
     "data": {
      "text/plain": [
       "count    5843.0\n",
       "mean        1.0\n",
       "std         3.0\n",
       "min         0.0\n",
       "25%         0.0\n",
       "50%         0.0\n",
       "75%         2.0\n",
       "max        47.0\n",
       "Name: Updates, dtype: float64"
      ]
     },
     "execution_count": 69,
     "metadata": {},
     "output_type": "execute_result"
    }
   ],
   "source": [
    "# Number of updates distribution failed projects\n",
    "df.loc[df[\"State\"]==\"failed\"]['Updates'].describe().round()"
   ]
  },
  {
   "cell_type": "code",
   "execution_count": 70,
   "metadata": {},
   "outputs": [
    {
     "data": {
      "text/plain": [
       "count    6838.0\n",
       "mean        5.0\n",
       "std         6.0\n",
       "min         0.0\n",
       "25%         1.0\n",
       "50%         3.0\n",
       "75%         7.0\n",
       "max       128.0\n",
       "Name: Updates, dtype: float64"
      ]
     },
     "execution_count": 70,
     "metadata": {},
     "output_type": "execute_result"
    }
   ],
   "source": [
    "# Number of updates distribution successful projects\n",
    "df.loc[df[\"State\"]==\"successful\"]['Updates'].describe().round()"
   ]
  },
  {
   "cell_type": "code",
   "execution_count": 81,
   "metadata": {},
   "outputs": [
    {
     "data": {
      "image/png": "[encoded data removed]",
      "text/plain": [
       "<Figure size 1440x720 with 1 Axes>"
      ]
     },
     "metadata": {},
     "output_type": "display_data"
    }
   ],
   "source": [
    "fig, ax = plt.subplots(figsize=(20,10))\n",
    "sns.set(style='white')\n",
    "sns.set_context(\"notebook\")\n",
    "sns.despine(left = True)\n",
    "g = sns.boxplot(x=\"Updates\", y= \"State\",data = df, width=0.35, linewidth=0.75, \\\n",
    "            fliersize=0)\n",
    "\n",
    "\n",
    "g.axis(xmin=0, xmax=30)\n",
    "\n",
    "failes = ax.artists[0]\n",
    "succ = ax.artists[1]\n",
    "\n",
    "failes.set_facecolor('#FFA500')\n",
    "failes.set_edgecolor('grey')\n",
    "failes.set_linewidth(0.1); \n",
    "\n",
    "succ.set_facecolor('#2ED623') \n",
    "succ.set_edgecolor('grey')\n",
    "succ.set_linewidth(0.1)\n",
    "\n",
    "labels = ['Failed', 'Successful']\n",
    "g.set_yticklabels(labels)\n",
    "plt.xticks(fontsize=17)\n",
    "plt.yticks(fontsize=17)\n",
    "\n",
    "g.xaxis.set_label_text(\"\")\n",
    "g.yaxis.set_label_text(\"\");\n",
    "\n",
    "plt.title(\"Number of Updates Distribution by Final State \", fontsize=20,fontweight='bold',pad=35,\\\n",
    "        loc='center', horizontalalignment='center');"
   ]
  },
  {
   "cell_type": "markdown",
   "metadata": {},
   "source": [
    "### 3. Number of Images and final state relationship"
   ]
  },
  {
   "cell_type": "code",
   "execution_count": 73,
   "metadata": {},
   "outputs": [
    {
     "data": {
      "text/plain": [
       "count    12681.000000\n",
       "mean         6.060642\n",
       "std          9.136592\n",
       "min          0.000000\n",
       "25%          0.000000\n",
       "50%          3.000000\n",
       "75%          8.000000\n",
       "max        111.000000\n",
       "Name: # Images, dtype: float64"
      ]
     },
     "execution_count": 73,
     "metadata": {},
     "output_type": "execute_result"
    }
   ],
   "source": [
    "df['# Images'].describe()"
   ]
  },
  {
   "cell_type": "code",
   "execution_count": 74,
   "metadata": {},
   "outputs": [
    {
     "data": {
      "text/plain": [
       "0    4852\n",
       "1     747\n",
       "3     696\n",
       "4     681\n",
       "2     653\n",
       "Name: # Images, dtype: int64"
      ]
     },
     "execution_count": 74,
     "metadata": {},
     "output_type": "execute_result"
    }
   ],
   "source": [
    "df['# Images'].value_counts().head()"
   ]
  },
  {
   "cell_type": "code",
   "execution_count": 321,
   "metadata": {},
   "outputs": [
    {
     "data": {
      "text/plain": [
       "61.73803327813264"
      ]
     },
     "execution_count": 321,
     "metadata": {},
     "output_type": "execute_result"
    }
   ],
   "source": [
    "# 62% of projetcs has photos in its description\n",
    "((12681-4852)/12681)*100"
   ]
  },
  {
   "cell_type": "code",
   "execution_count": 76,
   "metadata": {},
   "outputs": [
    {
     "data": {
      "text/plain": [
       "count    6838.000000\n",
       "mean        7.203568\n",
       "std        10.125284\n",
       "min         0.000000\n",
       "25%         0.000000\n",
       "50%         4.000000\n",
       "75%        10.000000\n",
       "max        94.000000\n",
       "Name: # Images, dtype: float64"
      ]
     },
     "execution_count": 76,
     "metadata": {},
     "output_type": "execute_result"
    }
   ],
   "source": [
    "df[df['State'] == 'successful']['# Images'].describe()"
   ]
  },
  {
   "cell_type": "code",
   "execution_count": 77,
   "metadata": {},
   "outputs": [
    {
     "data": {
      "text/plain": [
       "count    5843.000000\n",
       "mean        4.723087\n",
       "std         7.608262\n",
       "min         0.000000\n",
       "25%         0.000000\n",
       "50%         2.000000\n",
       "75%         7.000000\n",
       "max       111.000000\n",
       "Name: # Images, dtype: float64"
      ]
     },
     "execution_count": 77,
     "metadata": {},
     "output_type": "execute_result"
    }
   ],
   "source": [
    "df[df['State'] == 'failed']['# Images'].describe()"
   ]
  },
  {
   "cell_type": "code",
   "execution_count": 87,
   "metadata": {},
   "outputs": [
    {
     "data": {
      "text/html": [
       "<div>\n",
       "<style scoped>\n",
       "    .dataframe tbody tr th:only-of-type {\n",
       "        vertical-align: middle;\n",
       "    }\n",
       "\n",
       "    .dataframe tbody tr th {\n",
       "        vertical-align: top;\n",
       "    }\n",
       "\n",
       "    .dataframe thead th {\n",
       "        text-align: right;\n",
       "    }\n",
       "</style>\n",
       "<table border=\"1\" class=\"dataframe\">\n",
       "  <thead>\n",
       "    <tr style=\"text-align: right;\">\n",
       "      <th></th>\n",
       "      <th>Nb. Images</th>\n",
       "      <th>Nb prj</th>\n",
       "    </tr>\n",
       "  </thead>\n",
       "  <tbody>\n",
       "    <tr>\n",
       "      <th>count</th>\n",
       "      <td>74.000000</td>\n",
       "      <td>74.000000</td>\n",
       "    </tr>\n",
       "    <tr>\n",
       "      <th>mean</th>\n",
       "      <td>38.472973</td>\n",
       "      <td>92.405405</td>\n",
       "    </tr>\n",
       "    <tr>\n",
       "      <th>std</th>\n",
       "      <td>24.605503</td>\n",
       "      <td>276.283848</td>\n",
       "    </tr>\n",
       "    <tr>\n",
       "      <th>min</th>\n",
       "      <td>0.000000</td>\n",
       "      <td>1.000000</td>\n",
       "    </tr>\n",
       "    <tr>\n",
       "      <th>25%</th>\n",
       "      <td>18.250000</td>\n",
       "      <td>3.000000</td>\n",
       "    </tr>\n",
       "    <tr>\n",
       "      <th>50%</th>\n",
       "      <td>36.500000</td>\n",
       "      <td>13.000000</td>\n",
       "    </tr>\n",
       "    <tr>\n",
       "      <th>75%</th>\n",
       "      <td>56.750000</td>\n",
       "      <td>75.000000</td>\n",
       "    </tr>\n",
       "    <tr>\n",
       "      <th>max</th>\n",
       "      <td>94.000000</td>\n",
       "      <td>2272.000000</td>\n",
       "    </tr>\n",
       "  </tbody>\n",
       "</table>\n",
       "</div>"
      ],
      "text/plain": [
       "       Nb. Images       Nb prj\n",
       "count   74.000000    74.000000\n",
       "mean    38.472973    92.405405\n",
       "std     24.605503   276.283848\n",
       "min      0.000000     1.000000\n",
       "25%     18.250000     3.000000\n",
       "50%     36.500000    13.000000\n",
       "75%     56.750000    75.000000\n",
       "max     94.000000  2272.000000"
      ]
     },
     "execution_count": 87,
     "metadata": {},
     "output_type": "execute_result"
    }
   ],
   "source": [
    "image_succ = df[df['State'] == 'successful']['# Images'].value_counts().to_frame().reset_index()\n",
    "image_succ= image_succ.rename(columns = {'index':'Nb. Images','# Images':'Nb prj' })\n",
    "\n",
    "image_succ['Nb. Images'].mean()\n",
    "\n",
    "image_succ.describe()\n"
   ]
  },
  {
   "cell_type": "code",
   "execution_count": 83,
   "metadata": {},
   "outputs": [
    {
     "data": {
      "text/html": [
       "<div>\n",
       "<style scoped>\n",
       "    .dataframe tbody tr th:only-of-type {\n",
       "        vertical-align: middle;\n",
       "    }\n",
       "\n",
       "    .dataframe tbody tr th {\n",
       "        vertical-align: top;\n",
       "    }\n",
       "\n",
       "    .dataframe thead th {\n",
       "        text-align: right;\n",
       "    }\n",
       "</style>\n",
       "<table border=\"1\" class=\"dataframe\">\n",
       "  <thead>\n",
       "    <tr style=\"text-align: right;\">\n",
       "      <th></th>\n",
       "      <th>Nb. Images</th>\n",
       "      <th>Nb prj</th>\n",
       "    </tr>\n",
       "  </thead>\n",
       "  <tbody>\n",
       "    <tr>\n",
       "      <th>count</th>\n",
       "      <td>62.000000</td>\n",
       "      <td>62.000000</td>\n",
       "    </tr>\n",
       "    <tr>\n",
       "      <th>mean</th>\n",
       "      <td>32.806452</td>\n",
       "      <td>94.241935</td>\n",
       "    </tr>\n",
       "    <tr>\n",
       "      <th>std</th>\n",
       "      <td>22.758057</td>\n",
       "      <td>333.573581</td>\n",
       "    </tr>\n",
       "    <tr>\n",
       "      <th>min</th>\n",
       "      <td>0.000000</td>\n",
       "      <td>1.000000</td>\n",
       "    </tr>\n",
       "    <tr>\n",
       "      <th>25%</th>\n",
       "      <td>15.250000</td>\n",
       "      <td>2.000000</td>\n",
       "    </tr>\n",
       "    <tr>\n",
       "      <th>50%</th>\n",
       "      <td>30.500000</td>\n",
       "      <td>7.500000</td>\n",
       "    </tr>\n",
       "    <tr>\n",
       "      <th>75%</th>\n",
       "      <td>45.750000</td>\n",
       "      <td>54.750000</td>\n",
       "    </tr>\n",
       "    <tr>\n",
       "      <th>max</th>\n",
       "      <td>111.000000</td>\n",
       "      <td>2580.000000</td>\n",
       "    </tr>\n",
       "  </tbody>\n",
       "</table>\n",
       "</div>"
      ],
      "text/plain": [
       "       Nb. Images       Nb prj\n",
       "count   62.000000    62.000000\n",
       "mean    32.806452    94.241935\n",
       "std     22.758057   333.573581\n",
       "min      0.000000     1.000000\n",
       "25%     15.250000     2.000000\n",
       "50%     30.500000     7.500000\n",
       "75%     45.750000    54.750000\n",
       "max    111.000000  2580.000000"
      ]
     },
     "execution_count": 83,
     "metadata": {},
     "output_type": "execute_result"
    }
   ],
   "source": [
    "image_failed = df[df['State'] == 'failed']['# Images'].value_counts().to_frame().reset_index()\n",
    "image_failed = image_failed.rename(columns = {'index':'Nb. Images','# Images':'Nb prj' })\n",
    "\n",
    "\n",
    "image_failed\n",
    "\n",
    "image_failed.describe()"
   ]
  },
  {
   "cell_type": "code",
   "execution_count": 84,
   "metadata": {},
   "outputs": [
    {
     "data": {
      "text/plain": [
       "array([2580,  335,  327,  310,  306,  254,  245,  197,  165,  159,  123,\n",
       "         97,   73,   71,   67,   56,   51,   50,   49,   44,   31,   27,\n",
       "         25,   25,   25,   24,   16,   15,   10,    9,    8,    7,    6,\n",
       "          5,    3,    3,    3,    3,    3,    3,    3,    3,    2,    2,\n",
       "          2,    2,    2,    2,    2,    1,    1,    1,    1,    1,    1,\n",
       "          1,    1,    1,    1,    1,    1,    1])"
      ]
     },
     "execution_count": 84,
     "metadata": {},
     "output_type": "execute_result"
    }
   ],
   "source": [
    "array_failed_i = np.array(image_failed.iloc[:,1])\n",
    "array_failed_i"
   ]
  },
  {
   "cell_type": "code",
   "execution_count": 88,
   "metadata": {},
   "outputs": [],
   "source": [
    "array_succ_i = np.array(image_succ.iloc[:,1])"
   ]
  },
  {
   "cell_type": "code",
   "execution_count": 89,
   "metadata": {},
   "outputs": [],
   "source": [
    "ind = image_succ.iloc[:,0]\n"
   ]
  },
  {
   "cell_type": "code",
   "execution_count": 90,
   "metadata": {},
   "outputs": [
    {
     "data": {
      "image/png": "[encoded data removed]",
      "text/plain": [
       "<Figure size 864x216 with 1 Axes>"
      ]
     },
     "metadata": {},
     "output_type": "display_data"
    }
   ],
   "source": [
    "fig, ax = plt.subplots(figsize=(12,3))\n",
    "sns.set(style='white')\n",
    "sns.set_context(\"notebook\")\n",
    "sns.despine(left = True)\n",
    "g = sns.boxplot(x=\"# Images\", y= \"State\",data = df, width=0.55, linewidth=0.75, \\\n",
    "            fliersize=0)\n",
    "\n",
    "\n",
    "failes = ax.artists[0]\n",
    "succ = ax.artists[1]\n",
    "\n",
    "failes.set_facecolor('#FFA500')\n",
    "failes.set_edgecolor('grey')\n",
    "failes.set_linewidth(0.1); \n",
    "\n",
    "succ.set_facecolor('#2ED623') \n",
    "succ.set_edgecolor('grey')\n",
    "succ.set_linewidth(0.1)\n",
    "\n",
    "labels = ['Failed', 'Successful']\n",
    "g.set_yticklabels(labels)\n",
    "plt.xticks(fontsize=12)\n",
    "plt.yticks(fontsize=12)\n",
    "\n",
    "g.xaxis.set_label_text(\"\")\n",
    "g.yaxis.set_label_text(\"\");\n",
    "\n",
    "plt.title(\"Number of Image Distribution by Final State \", fontsize=20,fontweight='bold',pad=35,\\\n",
    "        loc='center', horizontalalignment='center');"
   ]
  },
  {
   "cell_type": "markdown",
   "metadata": {},
   "source": [
    "## NETWORK factor Analysis"
   ]
  },
  {
   "cell_type": "markdown",
   "metadata": {},
   "source": [
    "### 1.  Number of Comments and final state relationship"
   ]
  },
  {
   "cell_type": "code",
   "execution_count": 184,
   "metadata": {},
   "outputs": [
    {
     "data": {
      "text/plain": [
       "count    12681.000000\n",
       "mean        16.510685\n",
       "std        176.539187\n",
       "min          0.000000\n",
       "25%          0.000000\n",
       "50%          0.000000\n",
       "75%          3.000000\n",
       "max      10228.000000\n",
       "Name: Comments, dtype: float64"
      ]
     },
     "execution_count": 184,
     "metadata": {},
     "output_type": "execute_result"
    }
   ],
   "source": [
    "df['Comments'].describe()"
   ]
  },
  {
   "cell_type": "code",
   "execution_count": 84,
   "metadata": {},
   "outputs": [
    {
     "data": {
      "text/plain": [
       "count     6838.000000\n",
       "mean        29.286341\n",
       "std        239.412564\n",
       "min          0.000000\n",
       "25%          0.000000\n",
       "50%          2.000000\n",
       "75%          7.000000\n",
       "max      10228.000000\n",
       "Name: Comments, dtype: float64"
      ]
     },
     "execution_count": 84,
     "metadata": {},
     "output_type": "execute_result"
    }
   ],
   "source": [
    "df[df['State'] == 'successful']['Comments'].describe()"
   ]
  },
  {
   "cell_type": "code",
   "execution_count": 85,
   "metadata": {},
   "outputs": [
    {
     "data": {
      "text/plain": [
       "count    5843.000000\n",
       "mean        1.559473\n",
       "std        12.259309\n",
       "min         0.000000\n",
       "25%         0.000000\n",
       "50%         0.000000\n",
       "75%         1.000000\n",
       "max       722.000000\n",
       "Name: Comments, dtype: float64"
      ]
     },
     "execution_count": 85,
     "metadata": {},
     "output_type": "execute_result"
    }
   ],
   "source": [
    "df[df['State'] == 'failed']['Comments'].describe()"
   ]
  },
  {
   "cell_type": "code",
   "execution_count": 91,
   "metadata": {},
   "outputs": [
    {
     "data": {
      "image/png": "[encoded data removed]",
      "text/plain": [
       "<Figure size 1224x504 with 1 Axes>"
      ]
     },
     "metadata": {},
     "output_type": "display_data"
    }
   ],
   "source": [
    "fig, ax = plt.subplots(figsize=(17,7))\n",
    "sns.set(style='white')\n",
    "sns.set_context(\"notebook\")\n",
    "sns.despine(left = True)\n",
    "g = sns.boxplot(x=\"Comments\", y= \"State\",data = df, width=0.35, linewidth=0.75, \\\n",
    "            fliersize=0)\n",
    "\n",
    "\n",
    "failes = ax.artists[0]\n",
    "succ = ax.artists[1]\n",
    "\n",
    "failes.set_facecolor('#FFA500')\n",
    "failes.set_edgecolor('grey')\n",
    "failes.set_linewidth(0.1); \n",
    "\n",
    "succ.set_facecolor('#2ED623') \n",
    "succ.set_edgecolor('grey')\n",
    "succ.set_linewidth(0.1)\n",
    "\n",
    "labels = ['Failed', 'Successful']\n",
    "g.set_yticklabels(labels)\n",
    "plt.xticks(fontsize=14)\n",
    "plt.yticks(fontsize=14)\n",
    "\n",
    "g.xaxis.set_label_text(\"\")\n",
    "g.yaxis.set_label_text(\"\")\n",
    "\n",
    "g.axis(xmin=0, xmax= 30);\n",
    "plt.title(\"Number of Comments Distribution by Final State \", fontsize=20,fontweight='bold',pad=35,\\\n",
    "        loc='center', horizontalalignment='center');"
   ]
  },
  {
   "cell_type": "markdown",
   "metadata": {},
   "source": [
    "### 2. Number of Shares and final State Relationship"
   ]
  },
  {
   "cell_type": "code",
   "execution_count": 87,
   "metadata": {},
   "outputs": [
    {
     "data": {
      "text/plain": [
       "count     12681.000000\n",
       "mean        303.241700\n",
       "std        1236.343526\n",
       "min           0.000000\n",
       "25%          23.000000\n",
       "50%         111.000000\n",
       "75%         317.000000\n",
       "max      111868.000000\n",
       "Name: Facebook Shares, dtype: float64"
      ]
     },
     "execution_count": 87,
     "metadata": {},
     "output_type": "execute_result"
    }
   ],
   "source": [
    "df['Facebook Shares'].describe()"
   ]
  },
  {
   "cell_type": "code",
   "execution_count": 88,
   "metadata": {},
   "outputs": [
    {
     "data": {
      "text/plain": [
       "count      6838.000000\n",
       "mean        473.793653\n",
       "std        1643.572174\n",
       "min           0.000000\n",
       "25%          95.000000\n",
       "50%         235.500000\n",
       "75%         505.000000\n",
       "max      111868.000000\n",
       "Name: Facebook Shares, dtype: float64"
      ]
     },
     "execution_count": 88,
     "metadata": {},
     "output_type": "execute_result"
    }
   ],
   "source": [
    "df[df['State']== 'successful']['Facebook Shares'].describe()"
   ]
  },
  {
   "cell_type": "code",
   "execution_count": 89,
   "metadata": {},
   "outputs": [
    {
     "data": {
      "text/plain": [
       "count     5843.000000\n",
       "mean       103.646586\n",
       "std        287.025931\n",
       "min          0.000000\n",
       "25%          5.000000\n",
       "50%         31.000000\n",
       "75%        110.000000\n",
       "max      12529.000000\n",
       "Name: Facebook Shares, dtype: float64"
      ]
     },
     "execution_count": 89,
     "metadata": {},
     "output_type": "execute_result"
    }
   ],
   "source": [
    "df[df['State']== 'failed']['Facebook Shares'].describe()"
   ]
  },
  {
   "cell_type": "code",
   "execution_count": 92,
   "metadata": {},
   "outputs": [
    {
     "data": {
      "image/png": "[encoded data removed]",
      "text/plain": [
       "<Figure size 1224x504 with 1 Axes>"
      ]
     },
     "metadata": {},
     "output_type": "display_data"
    }
   ],
   "source": [
    "fig, ax = plt.subplots(figsize=(17,7))\n",
    "sns.set(style='white')\n",
    "sns.set_context(\"notebook\")\n",
    "sns.despine(left = True)\n",
    "g = sns.boxplot(x=\"Facebook Shares\", y= \"State\",data = df, width=0.55, linewidth=0.75, \\\n",
    "            fliersize=0)\n",
    "\n",
    "\n",
    "failes = ax.artists[0]\n",
    "succ = ax.artists[1]\n",
    "\n",
    "failes.set_facecolor('#FFA500')\n",
    "failes.set_edgecolor('grey')\n",
    "failes.set_linewidth(0.1); \n",
    " \n",
    "succ.set_facecolor('#2ED623') \n",
    "succ.set_edgecolor('grey')\n",
    "succ.set_linewidth(0.1)\n",
    "\n",
    "labels = ['Failed', 'Successful']\n",
    "g.set_yticklabels(labels)\n",
    "plt.xticks(fontsize=14)\n",
    "plt.yticks(fontsize=14)\n",
    "\n",
    "g.xaxis.set_label_text(\"\")\n",
    "g.yaxis.set_label_text(\"\")\n",
    "\n",
    "g.axis(xmin=0, xmax= 1500);\n",
    "\n",
    "plt.title(\"Number of Shares Distribution by Final State \", fontsize=20,fontweight='bold',pad=35,\\\n",
    "        loc='center', horizontalalignment='center');"
   ]
  }
 ],
 "metadata": {
  "kernelspec": {
   "display_name": "Python 3",
   "language": "python",
   "name": "python3"
  },
  "language_info": {
   "codemirror_mode": {
    "name": "ipython",
    "version": 3
   },
   "file_extension": ".py",
   "mimetype": "text/x-python",
   "name": "python",
   "nbconvert_exporter": "python",
   "pygments_lexer": "ipython3",
   "version": "3.7.3"
  }
 },
 "nbformat": 4,
 "nbformat_minor": 2
}
